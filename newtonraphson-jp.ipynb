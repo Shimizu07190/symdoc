{
 "cells": [
  {
   "cell_type": "code",
   "execution_count": 1,
   "metadata": {
    "collapsed": false
   },
   "outputs": [],
   "source": [
    "import sympy as sp\n",
    "sp.init_printing()\n",
    "from functools import reduce\n",
    "\n",
    "import numpy as np\n",
    "\n",
    "%matplotlib inline\n",
    "from matplotlib import pyplot as plt\n",
    "\n",
    "from nbsupport import md\n",
    "\n",
    "sp.var('a n x')\n",
    "pass"
   ]
  },
  {
   "cell_type": "code",
   "execution_count": 2,
   "metadata": {
    "collapsed": false
   },
   "outputs": [
    {
     "data": {
      "text/markdown": [
       "# Newton-Raphson法を用いた$\\sqrt a$の求解"
      ]
     },
     "metadata": {},
     "output_type": "display_data"
    },
    {
     "data": {
      "text/markdown": [
       "正数$a$の平方根を数値的に求める標準解法は\n",
       "方程式$f(x) = x^2 - a = 0$へのNewton-Raphson法の適用です．\n",
       "この手法では，解$x$の近似解$x_n$の近似度を漸次改善します．\n",
       "このために関数$f$の$(x_n, f(x_n))$周辺におけるTaylor展開の一次近似\n",
       "$x_n - f(x_n) / f'(x_n)$を用います．$f$の定義をこれにあてはめて\n",
       "\\begin{align}\n",
       "f(x)    &= x^2 - a \\\\\n",
       "f'(x)   &= 2x \\\\\n",
       "x_{n+1} &= x_n - \\frac {f(x_n)}{f'(x_n)}\n",
       "         = x_n - \\frac {x_n^2 - a} {2x_n}\n",
       "         = \\frac {x + a / x} 2\n",
       "\\end{align}が得られます．"
      ]
     },
     "metadata": {},
     "output_type": "display_data"
    },
    {
     "data": {
      "text/markdown": [
       "$\\sqrt 2 \\sim x_5 = 1.414213562373095$"
      ]
     },
     "metadata": {},
     "output_type": "display_data"
    }
   ],
   "source": [
    "md(r'# Newton-Raphson法を用いた$\\sqrt a$の求解')\n",
    "\n",
    "md(r'''正数$a$の平方根を数値的に求める標準解法は\n",
    "方程式$f(x) = x^2 - a = 0$へのNewton-Raphson法の適用です．\n",
    "この手法では，解$x$の近似解$x_n$の近似度を漸次改善します．\n",
    "このために関数$f$の$(x_n, f(x_n))$周辺におけるTaylor展開の一次近似\n",
    "$x_n - f(x_n) / f'(x_n)$を用います．$f$の定義をこれにあてはめて\n",
    "\\begin{align}\n",
    "f(x)    &= x^2 - a \\\\\n",
    "f'(x)   &= 2x \\\\\n",
    "x_{n+1} &= x_n - \\frac {f(x_n)}{f'(x_n)}\n",
    "         = x_n - \\frac {x_n^2 - a} {2x_n}\n",
    "         = \\frac {x + a / x} 2\n",
    "\\end{align}が得られます．''')\n",
    "\n",
    "def sqrt(a):\n",
    "    x = 1\n",
    "    for i in range(5):\n",
    "        x = (x + a / x) / 2\n",
    "    return x\n",
    "\n",
    "md(r'$\\sqrt 2 \\sim x_5 = ', sqrt(2), '$')"
   ]
  },
  {
   "cell_type": "markdown",
   "metadata": {},
   "source": [
    "一応、上のようにして2の平方根を求めることはできましたが、このプログラムについてはいくつか不満な点があります。\n",
    "\n",
    "1. 2の平方根は定義から「$x^2 - 2 = 0$」という方程式の解として与えられます。でも、上で定義した`sqrt2`関数の定義のなかに現れる式`(x + 2 / x) / 2`はこの方程式とずいぶん異なる見かけです。このプログラムから、元々の方程式の姿を想像することは困難です。\n",
    "\n",
    "1. 今度は、`sqrt2`のプログラムのドキュメントに目を向けると、元の式$f(x) = x^2 - 2$からプログラムで用いられている差分式$(x + 2/x)/x$を得る式変形が記述されています。プログラムの内容よりもドキュメントの方がはるかに複雑で、書くのも面倒なことがわかります。こんなドキュメント書いてられません。でも、前述のようにこのドキュメントなしにプログラムを解読することはほぼ不可能です。\n",
    "\n",
    "1. 最後に、ドキュメントの一番最後に出現する式を見てみましょう。プログラムの式とほぼ同一です。同じ式を二回、しかも微妙に異なる書式（$\\LaTeX$とPython）で書かされていることになり、冗長性があることがわかります。この例は簡単なので、ここで見える冗長性も許容範囲内かもしれませんが、適応対象の式が複雑化するにつれて、この冗長性は避けがたくなります。\n",
    "\n",
    "以下では、以上、三つの問題点をSymPyを用いた数式処理、SymPyからPythonと$\\LaTeX$コードの自動合成によって解決することを目指します。"
   ]
  },
  {
   "cell_type": "code",
   "execution_count": 3,
   "metadata": {
    "collapsed": true
   },
   "outputs": [],
   "source": [
    "def sqrt(a):\n",
    "    X = sp.var('X')\n",
    "    関数式 = X * X - a\n",
    "    差分計算式 = X - 関数式 / sp.diff(関数式, X)\n",
    "    差分計算   = sp.lambdify((X), 差分計算式)\n",
    "    x = 1\n",
    "    for i in range(5):\n",
    "        x = 差分計算(x)\n",
    "    return x"
   ]
  },
  {
   "cell_type": "code",
   "execution_count": 4,
   "metadata": {
    "collapsed": false
   },
   "outputs": [
    {
     "data": {
      "image/png": "[encoded data removed]",
      "text/latex": [
       "$$\\left [ 1.4142135623730951, \\quad 1.7320508075688772, \\quad 2.236067977499978, \\quad 2.6457513111113693\\right ]$$"
      ],
      "text/plain": [
       "[1.4142135623730951, 1.7320508075688772, 2.236067977499978, 2.6457513111113693\n",
       "]"
      ]
     },
     "execution_count": 4,
     "metadata": {},
     "output_type": "execute_result"
    }
   ],
   "source": [
    "[sqrt(x) for x in [2, 3, 5, 7]]"
   ]
  },
  {
   "cell_type": "code",
   "execution_count": 5,
   "metadata": {
    "collapsed": false
   },
   "outputs": [
    {
     "data": {
      "text/markdown": [
       "# Newton-Raphsonの一般的な記述\n",
       "ここで定義する`NewtonRaphson`関数はSymPyの数式処理の仕組みを応用して数式に依存しない形式で記述したものです。"
      ]
     },
     "metadata": {},
     "output_type": "display_data"
    }
   ],
   "source": [
    "md('# Newton-Raphsonの一般的な記述\\n',\n",
    "   'ここで定義する`NewtonRaphson`関数はSymPyの数式処理の仕組みを応用して',\n",
    "   '数式に依存しない形式で記述したものです。')\n",
    "\n",
    "def NewtonRaphson(関数式, x, *args):\n",
    "    '''Generic implementation of\n",
    "    Newton-Raphson method\n",
    "    \n",
    "    Args:\n",
    "        関数式: Sympy形式の関数の式\n",
    "    \n",
    "        x: 関数式のうちの変数\n",
    "    \n",
    "    Returns:\n",
    "        xに関する方程式「関数式 = 0」を求めるPythonのlambda'''    \n",
    "    \n",
    "    F = sp.Function('F')\n",
    "    NEWTON_RAPHSON = x - F(x) / sp.diff(F(x), x)\n",
    "    \n",
    "    差分計算式 = NEWTON_RAPHSON.subs(F(x), 関数式).doit()\n",
    "    差分計算   = sp.lambdify((x, *args), 差分計算式)\n",
    "\n",
    "    関数      = sp.lambdify((x, *args), 関数式)\n",
    "    \n",
    "    def グラフ描画(X, Y, *args):\n",
    "        minX, maxX, minY, maxY = np.min(X), np.max(X), np.min(Y), np.max(Y)\n",
    "        mx, my = (maxX - minX) * 0.1, (maxY - minY) * 0.1\n",
    "        plt.xlim(minX - mx, maxX + mx)\n",
    "        plt.ylim(minY - my, maxY + my)\n",
    "        \n",
    "        FX = np.linspace(minX - mx, maxX + mx, 100, endpoint = True)\n",
    "        plt.plot(FX, 関数(FX, *args))\n",
    "        \n",
    "        plt.plot(X, Y)\n",
    "        \n",
    "        ax = plt.gca()\n",
    "        ax.spines['right'].set_color('none')\n",
    "        ax.spines['left'].set_position(('data', X[len(X)-1]))\n",
    "\n",
    "        ax.spines['top'].set_color('none')\n",
    "        ax.spines['bottom'].set_position(('data', 0))\n",
    "        ax.xaxis.set_ticks_position('bottom')\n",
    "        ax.yaxis.set_ticks_position('left')\n",
    "    \n",
    "    def newton_raphson(*args, x = 1, ループ回数 = 5, 描画 = False):\n",
    "        x0 = x\n",
    "        X = [ x, x ]; Y = [ 0, 関数(x, *args) ]\n",
    "        for i in range(ループ回数):\n",
    "            x = 差分計算(x, *args)\n",
    "            X.extend([x, x]); Y.extend([0, 関数(x, *args)])\n",
    "        if 描画:\n",
    "            md('-----\\n\\n## $', 関数式, '= 0$', 'の根の求解\\n',\n",
    "               'Newton-Raphson法を用いて $', 関数式, '= 0$ の根の解を $x=', x0,\n",
    "               '$ から始めて逐次求解した様子の可視化。')\n",
    "            グラフ描画(X, Y, *args)\n",
    "        return x\n",
    "\n",
    "    x_n, x_n1 = sp.var('x_n x_{n+1}')\n",
    "    md('`NewtonRaphson`関数は、方程式 $', F(x), '=', 関数式,\n",
    "       '''= 0$ の根をNewton-Raphson法を用いて求める関数を返します。\n",
    "この手法は、方程式の根の近似値 $x_n$ を漸次改善します。\n",
    "このために、$''', (x_n, F(x_n)), '''$ におけるTaylor展開の一次近似を用います：\\n\\n\n",
    "$$''', NEWTON_RAPHSON, '$$\\n\\n',\n",
    "'関数式の内容 $(', 関数式, ')$ をこれにあてはめて，以下の差分計算が得られます：\\n\\n$$',\n",
    "x_n1, '=', 差分計算式.subs(x, x_n), '$$')\n",
    "    \n",
    "    return newton_raphson"
   ]
  },
  {
   "cell_type": "code",
   "execution_count": 6,
   "metadata": {
    "collapsed": false,
    "scrolled": true
   },
   "outputs": [
    {
     "data": {
      "text/markdown": [
       "# `NewtonRaphson`関数を用いた平方根の計算"
      ]
     },
     "metadata": {},
     "output_type": "display_data"
    },
    {
     "data": {
      "text/markdown": [
       "`NewtonRaphson`関数は、方程式 $F{\\left (x \\right )}=- a + x^{2}= 0$ の根をNewton-Raphson法を用いて求める関数を返します。\n",
       "この手法は、方程式の根の近似値 $x_n$ を漸次改善します。\n",
       "このために、$\\left ( x_{n}, \\quad F{\\left (x_{n} \\right )}\\right )$ におけるTaylor展開の一次近似を用います：\n",
       "\n",
       "\n",
       "$$x - \\frac{F{\\left (x \\right )}}{\\frac{d}{d x} F{\\left (x \\right )}}$$\n",
       "\n",
       "関数式の内容 $(- a + x^{2})$ をこれにあてはめて，以下の差分計算が得られます：\n",
       "\n",
       "$$x_{{n+1}}=x_{n} - \\frac{- a + x_{n}^{2}}{2 x_{n}}$$"
      ]
     },
     "metadata": {},
     "output_type": "display_data"
    },
    {
     "data": {
      "text/markdown": [
       "$\\sqrt 2 = 1.4142135623730951$"
      ]
     },
     "metadata": {},
     "output_type": "display_data"
    }
   ],
   "source": [
    "md('# `NewtonRaphson`関数を用いた平方根の計算')\n",
    "\n",
    "平方根 = NewtonRaphson(x**2 - a, x, a)\n",
    "md(r'$\\sqrt 2 = ', str(平方根(2)), '$')"
   ]
  },
  {
   "cell_type": "code",
   "execution_count": 7,
   "metadata": {
    "collapsed": false
   },
   "outputs": [
    {
     "data": {
      "text/markdown": [
       "# $\\sqrt[n]a$を求めるということは方程式 $x^n = a$を解くこと"
      ]
     },
     "metadata": {},
     "output_type": "display_data"
    },
    {
     "data": {
      "text/markdown": [
       "`NewtonRaphson`関数は、方程式 $F{\\left (x \\right )}=- a + x^{n}= 0$ の根をNewton-Raphson法を用いて求める関数を返します。\n",
       "この手法は、方程式の根の近似値 $x_n$ を漸次改善します。\n",
       "このために、$\\left ( x_{n}, \\quad F{\\left (x_{n} \\right )}\\right )$ におけるTaylor展開の一次近似を用います：\n",
       "\n",
       "\n",
       "$$x - \\frac{F{\\left (x \\right )}}{\\frac{d}{d x} F{\\left (x \\right )}}$$\n",
       "\n",
       "関数式の内容 $(- a + x^{n})$ をこれにあてはめて，以下の差分計算が得られます：\n",
       "\n",
       "$$x_{{n+1}}=x_{n} - \\frac{x_{n}}{n} x_{n}^{- n} \\left(- a + x_{n}^{n}\\right)$$"
      ]
     },
     "metadata": {},
     "output_type": "display_data"
    },
    {
     "data": {
      "text/markdown": [
       "-----\n",
       "\n",
       "## $- a + x^{n}= 0$の根の求解\n",
       "Newton-Raphson法を用いて $- a + x^{n}= 0$ の根の解を $x=2$ から始めて逐次求解した様子の可視化。"
      ]
     },
     "metadata": {},
     "output_type": "display_data"
    },
    {
     "data": {
      "text/markdown": [
       "$$1.4142135623730951^2=2.0000000000000004$$"
      ]
     },
     "metadata": {},
     "output_type": "display_data"
    },
    {
     "data": {
      "text/markdown": [
       "-----\n",
       "\n",
       "## $- a + x^{n}= 0$の根の求解\n",
       "Newton-Raphson法を用いて $- a + x^{n}= 0$ の根の解を $x=2$ から始めて逐次求解した様子の可視化。"
      ]
     },
     "metadata": {},
     "output_type": "display_data"
    },
    {
     "data": {
      "text/markdown": [
       "$$1.2599210498953948^3=2.000000000002484$$"
      ]
     },
     "metadata": {},
     "output_type": "display_data"
    },
    {
     "data": {
      "text/markdown": [
       "-----\n",
       "\n",
       "## $- a + x^{n}= 0$の根の求解\n",
       "Newton-Raphson法を用いて $- a + x^{n}= 0$ の根の解を $x=2$ から始めて逐次求解した様子の可視化。"
      ]
     },
     "metadata": {},
     "output_type": "display_data"
    },
    {
     "data": {
      "text/markdown": [
       "$$1.1892071900839556^4=2.0000005050843757$$"
      ]
     },
     "metadata": {},
     "output_type": "display_data"
    },
    {
     "data": {
      "text/markdown": [
       "-----\n",
       "\n",
       "## $- a + x^{n}= 0$の根の求解\n",
       "Newton-Raphson法を用いて $- a + x^{n}= 0$ の根の解を $x=2$ から始めて逐次求解した様子の可視化。"
      ]
     },
     "metadata": {},
     "output_type": "display_data"
    },
    {
     "data": {
      "text/markdown": [
       "$$1.1487382436984304^5=2.000347275432221$$"
      ]
     },
     "metadata": {},
     "output_type": "display_data"
    },
    {
     "data": {
      "image/png": "[encoded data removed]",
      "text/plain": [
       "<matplotlib.figure.Figure at 0x104b5d2b0>"
      ]
     },
     "metadata": {},
     "output_type": "display_data"
    }
   ],
   "source": [
    "md('# $\\sqrt[n]a$を求めるということは方程式 $x^n = a$を解くこと')\n",
    "\n",
    "Ｎ乗根 = NewtonRaphson(x**n - a, x, a, n) # これだけ！\n",
    "\n",
    "for i in range(2, 6):\n",
    "    root = Ｎ乗根(2, i, x = 2, 描画 = True)\n",
    "    md('$$', root, '^', i, '=', root ** i, r'$$')"
   ]
  },
  {
   "cell_type": "code",
   "execution_count": 8,
   "metadata": {
    "collapsed": false,
    "scrolled": true
   },
   "outputs": [
    {
     "data": {
      "text/markdown": [
       "# $\\frac 1 {x^2} = \\frac 1 a$ を用いて高速化"
      ]
     },
     "metadata": {},
     "output_type": "display_data"
    },
    {
     "data": {
      "text/markdown": [
       "`NewtonRaphson`関数は、方程式 $F{\\left (x \\right )}=\\frac{1}{x^{2}} - \\frac{1}{a}= 0$ の根をNewton-Raphson法を用いて求める関数を返します。\n",
       "この手法は、方程式の根の近似値 $x_n$ を漸次改善します。\n",
       "このために、$\\left ( x_{n}, \\quad F{\\left (x_{n} \\right )}\\right )$ におけるTaylor展開の一次近似を用います：\n",
       "\n",
       "\n",
       "$$x - \\frac{F{\\left (x \\right )}}{\\frac{d}{d x} F{\\left (x \\right )}}$$\n",
       "\n",
       "関数式の内容 $(\\frac{1}{x^{2}} - \\frac{1}{a})$ をこれにあてはめて，以下の差分計算が得られます：\n",
       "\n",
       "$$x_{{n+1}}=\\frac{x_{n}^{3}}{2} \\left(\\frac{1}{x_{n}^{2}} - \\frac{1}{a}\\right) + x_{n}$$"
      ]
     },
     "metadata": {},
     "output_type": "display_data"
    },
    {
     "data": {
      "text/markdown": [
       "-----\n",
       "\n",
       "## $\\frac{1}{x^{2}} - \\frac{1}{a}= 0$の根の求解\n",
       "Newton-Raphson法を用いて $\\frac{1}{x^{2}} - \\frac{1}{a}= 0$ の根の解を $x=0.5$ から始めて逐次求解した様子の可視化。"
      ]
     },
     "metadata": {},
     "output_type": "display_data"
    },
    {
     "data": {
      "text/markdown": [
       "\\begin{align}\\sqrt 2 & \\sim 1.413183241547555\\\\\\sqrt a & \\sim \\frac{1}{2} \\left(1.5 - \\frac{1}{2 a}\\right)^{3} \\left(\\frac{1}{\\left(1.5 - \\frac{1}{2 a}\\right)^{2}} - \\frac{1}{a}\\right) + \\frac{1}{2} \\left(\\frac{1}{\\left(\\frac{1}{2} \\left(1.5 - \\frac{1}{2 a}\\right)^{3} \\left(\\frac{1}{\\left(1.5 - \\frac{1}{2 a}\\right)^{2}} - \\frac{1}{a}\\right) + 1.5 - \\frac{1}{2 a}\\right)^{2}} - \\frac{1}{a}\\right) \\left(\\frac{1}{2} \\left(1.5 - \\frac{1}{2 a}\\right)^{3} \\left(\\frac{1}{\\left(1.5 - \\frac{1}{2 a}\\right)^{2}} - \\frac{1}{a}\\right) + 1.5 - \\frac{1}{2 a}\\right)^{3} + 1.5 - \\frac{1}{2 a}\\end{align}"
      ]
     },
     "metadata": {},
     "output_type": "display_data"
    },
    {
     "data": {
      "image/png": "[encoded data removed]",
      "text/plain": [
       "<matplotlib.figure.Figure at 0x104b5ddd8>"
      ]
     },
     "metadata": {},
     "output_type": "display_data"
    }
   ],
   "source": [
    "md(r'# $\\frac 1 {x^2} = \\frac 1 a$ を用いて高速化')\n",
    "\n",
    "改善版平方根の計算 = NewtonRaphson(1/x**2 - 1/a, x, a)\n",
    "\n",
    "md(r'\\begin{align}',\n",
    "     r'\\sqrt 2 & \\sim ', 改善版平方根の計算(2, x = .5, 描画 = True), r'\\\\',\n",
    "     r'\\sqrt a & \\sim ', 改善版平方根の計算(a, ループ回数 = 3),\n",
    "   r'\\end{align}')"
   ]
  },
  {
   "cell_type": "code",
   "execution_count": null,
   "metadata": {
    "collapsed": true
   },
   "outputs": [],
   "source": []
  },
  {
   "cell_type": "code",
   "execution_count": null,
   "metadata": {
    "collapsed": true
   },
   "outputs": [],
   "source": []
  }
 ],
 "metadata": {
  "kernelspec": {
   "display_name": "Python 3",
   "language": "python",
   "name": "python3"
  },
  "language_info": {
   "codemirror_mode": {
    "name": "ipython",
    "version": 3
   },
   "file_extension": ".py",
   "mimetype": "text/x-python",
   "name": "python",
   "nbconvert_exporter": "python",
   "pygments_lexer": "ipython3",
   "version": "3.5.2"
  },
  "latex_envs": {
   "bibliofile": "biblio.bib",
   "cite_by": "apalike",
   "current_citInitial": 1,
   "eqLabelWithNumbers": true,
   "eqNumInitial": 0
  },
  "nav_menu": {},
  "toc": {
   "navigate_menu": true,
   "number_sections": true,
   "sideBar": true,
   "threshold": 6,
   "toc_cell": false,
   "toc_section_display": "block",
   "toc_window_display": false
  }
 },
 "nbformat": 4,
 "nbformat_minor": 0
}
